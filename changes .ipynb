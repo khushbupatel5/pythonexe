{
 "cells": [
  {
   "cell_type": "code",
   "execution_count": 1,
   "id": "2f284384",
   "metadata": {},
   "outputs": [
    {
     "name": "stdout",
     "output_type": "stream",
     "text": [
      "Name: Laptop, Price: 50000.00, Category: Electronics\n",
      "Name: TV, Price: 45000.00, Category: Electronics\n",
      "Name: Smartphone, Price: 25000.00, Category: Electronics\n",
      "Name: Fridge, Price: 20000.00, Category: Appliances\n",
      "Name: Earphones, Price: 500.00, Category: Electronics\n",
      "\n",
      "Name: Earphones, Price: 500.00, Category: Electronics\n",
      "Name: Fridge, Price: 20000.00, Category: Appliances\n",
      "Name: Smartphone, Price: 25000.00, Category: Electronics\n",
      "Name: TV, Price: 45000.00, Category: Electronics\n",
      "Name: Laptop, Price: 50000.00, Category: Electronics\n"
     ]
    }
   ],
   "source": [
    "class Product:\n",
    "    def __init__(self, pname, code, category, price):\n",
    "        self.pdt_pname = pname\n",
    "        self.pdt_code = code\n",
    "        self.pdt_category = category\n",
    "        self.pdt_price = price\n",
    "\n",
    "products_list = [\n",
    "    Product(\"Laptop\", \"A01\", \"Electronics\", 50000),\n",
    "    Product(\"Smartphone\", \"A02\", \"Electronics\", 25000),\n",
    "    Product(\"Earphones\", \"A03\", \"Electronics\", 500),\n",
    "    Product(\"TV\", \"A04\", \"Electronics\", 45000),\n",
    "    Product(\"Fridge\", \"A05\", \"Appliances\", 20000)\n",
    "]\n",
    "\n",
    "def custom(arr, key_func, reverse=False):\n",
    "    n = len(arr)\n",
    "    for i in range(n - 1):\n",
    "        for j in range(0, n - i - 1):\n",
    "            if (not reverse and key_func(arr[j]) > key_func(arr[j + 1])) or (reverse and key_func(arr[j]) < key_func(arr[j + 1])):\n",
    "                arr[j], arr[j + 1] = arr[j + 1], arr[j]\n",
    "\n",
    "custom(products_list, key_func=lambda x: x.pdt_price, reverse=True)\n",
    "for product in products_list:\n",
    "    print(f\"Name: {product.pdt_pname}, Price: {product.pdt_price:.2f}, Category: {product.pdt_category}\")\n",
    "print()\n",
    "\n",
    "custom(products_list, key_func=lambda x: x.pdt_price)\n",
    "for product in products_list:\n",
    "    print(f\"Name: {product.pdt_pname}, Price: {product.pdt_price:.2f}, Category: {product.pdt_category}\")\n"
   ]
  },
  {
   "cell_type": "code",
   "execution_count": null,
   "id": "e8e2d326",
   "metadata": {},
   "outputs": [],
   "source": []
  }
 ],
 "metadata": {
  "kernelspec": {
   "display_name": "Python 3 (ipykernel)",
   "language": "python",
   "name": "python3"
  },
  "language_info": {
   "codemirror_mode": {
    "name": "ipython",
    "version": 3
   },
   "file_extension": ".py",
   "mimetype": "text/x-python",
   "name": "python",
   "nbconvert_exporter": "python",
   "pygments_lexer": "ipython3",
   "version": "3.9.12"
  }
 },
 "nbformat": 4,
 "nbformat_minor": 5
}
