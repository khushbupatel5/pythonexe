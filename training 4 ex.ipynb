{
 "cells": [
  {
   "cell_type": "code",
   "execution_count": 10,
   "id": "998b0273",
   "metadata": {},
   "outputs": [],
   "source": [
    "location = \"Location_A\"\n",
    "movement_details = \"Stock increased by 100 units.\"\n",
    "file_path = f\"/stock_movements/{location}_movements.txt\"\n",
    "\n",
    "with open(\"D:\\Data\\stock_movement.txt\", \"a\") as file:\n",
    "    file.write(movement_details + \"\\n\")\n"
   ]
  },
  {
   "cell_type": "code",
   "execution_count": 11,
   "id": "b19fd5d5",
   "metadata": {},
   "outputs": [
    {
     "name": "stdout",
     "output_type": "stream",
     "text": [
      "ÿþs\u0000r\u0000.\u0000n\u0000o\u0000\t\u0000p\u0000r\u0000o\u0000d\u0000u\u0000c\u0000t\u0000 \u0000n\u0000a\u0000m\u0000e\u0000\t\u0000\t\u0000s\u0000t\u0000o\u0000c\u0000k\u0000 \u0000q\u0000u\u0000a\u0000n\u0000t\u0000i\u0000t\u0000y\u0000\t\u0000\t\u0000p\u0000r\u0000i\u0000c\u0000e\u0000\n",
      "\u0000\n",
      "\u00001\u0000\t\u0000T\u0000.\u0000V\u0000\t\u0000\t\u00004\u0000\t\u0000\t\u0000\"\u00004\u00005\u0000,\u00000\u00000\u00000\u0000\"\u0000\n",
      "\u0000\n",
      "\u00002\u0000\t\u0000S\u0000P\u0000E\u0000E\u0000K\u0000E\u0000R\u0000\t\u0000\t\u00005\u0000\t\u0000\t\u0000\"\u00006\u00007\u0000,\u00000\u00000\u00000\u0000\"\u0000\n",
      "\u0000\n",
      "\u00003\u0000\t\u0000C\u0000E\u0000L\u0000L\u0000 \u0000P\u0000H\u00000\u0000N\u0000E\u0000\t\u0000\t\u00008\u0000\t\u0000\t\u0000\"\u00008\u00009\u0000,\u00000\u00000\u00000\u0000\"\u0000\n",
      "\u0000\n",
      "\u00004\u0000\t\u0000H\u0000E\u0000A\u0000D\u0000P\u0000H\u0000O\u0000N\u0000E\u0000\t\u0000\t\u00007\u0000\t\u0000\t\u0000\"\u00001\u0000,\u00000\u00000\u0000,\u00000\u00000\u00000\u0000\"\u0000\n",
      "\u0000\n",
      "\u00005\u0000\t\u0000W\u0000I\u0000R\u0000E\u0000\t\u0000\t\u00009\u0000\t\u0000\t\u0000\"\u00004\u0000,\u00005\u00000\u0000,\u00000\u00000\u0000,\u00000\u00000\u00000\u0000\"\u0000\n",
      "\u0000\n",
      "\u00006\u0000\t\u0000B\u0000L\u0000U\u0000E\u0000T\u0000O\u0000O\u0000T\u0000H\u0000\t\u0000\t\u00004\u0000\t\u0000\t\u0000\"\u00006\u0000,\u00000\u00000\u0000,\u00000\u00000\u0000,\u00000\u00000\u00000\u0000\"\u0000\n",
      "\u0000\n",
      "\u00007\u0000\t\u0000I\u0000P\u0000A\u0000D\u0000\t\u0000\t\u00006\u0000\t\u0000\t\u0000\"\u00007\u00000\u0000,\u00000\u00000\u0000,\u00000\u00000\u00000\u0000\"\u0000\n",
      "\u0000\n",
      "\u00008\u0000\t\u0000M\u0000A\u0000C\u0000B\u0000O\u0000O\u0000K\u0000\t\u0000\t\u00002\u0000\t\u0000\t\u0000\"\u00008\u00009\u0000,\u00000\u00000\u00000\u0000\"\u0000\n",
      "\u0000\n",
      "\u00009\u0000\t\u0000L\u0000A\u0000P\u0000T\u0000O\u0000P\u0000\t\u0000\t\u00004\u0000\t\u0000\t\u0000\"\u00009\u0000,\u00000\u00000\u0000,\u00000\u00000\u00000\u0000\"\u0000\n",
      "\u0000\n",
      "\u00001\u00000\u0000\t\u0000C\u0000H\u0000A\u0000R\u0000G\u0000E\u0000R\u0000\t\u0000\t\u00006\u0000\t\u0000\t\u0000\"\u00007\u00008\u0000,\u00000\u00000\u0000,\u00000\u00000\u0000,\u00000\u00000\u00000\u0000\"\u0000\n",
      "\u0000\n",
      "\u0000Stock increased by 100 units.\n"
     ]
    }
   ],
   "source": [
    "def display_stock_movements(location):\n",
    "    file_path = f\"/stock_movements/{location}_movements.txt\"\n",
    "    \n",
    "    try:\n",
    "        with open(\"D:\\Data\\stock_movement.txt\", \"r\") as file:\n",
    "            movements = file.readlines()\n",
    "            for movement in movements:\n",
    "                print(movement.strip())\n",
    "    except FileNotFoundError:\n",
    "        print(\"No stock movement data available for this location.\")\n",
    "\n",
    "# Call the function with the desired location\n",
    "display_stock_movements(\"Location_A\")\n"
   ]
  },
  {
   "cell_type": "code",
   "execution_count": 13,
   "id": "9e21c65d",
   "metadata": {},
   "outputs": [
    {
     "name": "stdout",
     "output_type": "stream",
     "text": [
      "121\n",
      "4/5/2023\n",
      "horizontal\n",
      "525\n",
      "ahemdabad\n",
      "520000\n",
      "858\n"
     ]
    }
   ],
   "source": [
    "# excercise 4\n",
    "class order:\n",
    "    def __init__(members, number,date,company,billing,shipping,total_amount,order_lines):\n",
    "        members.number = number\n",
    "        members.date = date\n",
    "        members.company = company\n",
    "        members.billing = billing\n",
    "        members.shipping = shipping\n",
    "        members.total_amount = total_amount\n",
    "        members.order_lines = order_lines\n",
    "        \n",
    "p1 = order(121,\"4/5/2023\",\"horizontal\",525,\"ahemdabad\",520000,858)\n",
    "\n",
    "print(p1.number)\n",
    "print(p1.date)\n",
    "print(p1.company)\n",
    "print(p1.billing)\n",
    "print(p1.shipping)\n",
    "print(p1.total_amount)\n",
    "print(p1.order_lines)\n",
    "    "
   ]
  },
  {
   "cell_type": "code",
   "execution_count": 14,
   "id": "421796c6",
   "metadata": {},
   "outputs": [
    {
     "name": "stdout",
     "output_type": "stream",
     "text": [
      "company\n",
      "billing\n",
      "shipping\n"
     ]
    }
   ],
   "source": [
    "class customer:\n",
    "   cc = \"company\"\n",
    "   cc1 = \"billing\"\n",
    "   cc2 = \"shipping\"\n",
    "\n",
    "p1 = customer()\n",
    "p2 = customer()\n",
    "p3 = customer()\n",
    "\n",
    "print(p1.cc)\n",
    "print(p2.cc1)\n",
    "print(p3.cc2)"
   ]
  },
  {
   "cell_type": "code",
   "execution_count": 45,
   "id": "4e2f63ba",
   "metadata": {},
   "outputs": [
    {
     "ename": "TypeError",
     "evalue": "'str' object is not callable",
     "output_type": "error",
     "traceback": [
      "\u001b[1;31m---------------------------------------------------------------------------\u001b[0m",
      "\u001b[1;31mTypeError\u001b[0m                                 Traceback (most recent call last)",
      "Input \u001b[1;32mIn [45]\u001b[0m, in \u001b[0;36m<cell line: 15>\u001b[1;34m()\u001b[0m\n\u001b[0;32m     12\u001b[0m     \u001b[38;5;28;01mexcept\u001b[39;00m \u001b[38;5;167;01mValueError\u001b[39;00m:\n\u001b[0;32m     13\u001b[0m         \u001b[38;5;28;01mreturn\u001b[39;00m \u001b[38;5;28;01mFalse\u001b[39;00m\n\u001b[1;32m---> 15\u001b[0m date_input \u001b[38;5;241m=\u001b[39m \u001b[38;5;28;43minput\u001b[39;49m\u001b[43m(\u001b[49m\u001b[38;5;124;43m\"\u001b[39;49m\u001b[38;5;124;43mEnter a date in the format YYYY-MM-DD:\u001b[39;49m\u001b[38;5;124;43m\"\u001b[39;49m\u001b[43m)\u001b[49m\n\u001b[0;32m     16\u001b[0m \u001b[38;5;28;01mif\u001b[39;00m is_future_date(date_input):\n\u001b[0;32m     17\u001b[0m     \u001b[38;5;28mprint\u001b[39m(\u001b[38;5;124m\"\u001b[39m\u001b[38;5;124mThe date is either today or in the future.\u001b[39m\u001b[38;5;124m\"\u001b[39m)\n",
      "\u001b[1;31mTypeError\u001b[0m: 'str' object is not callable"
     ]
    }
   ],
   "source": [
    "from datetime import datetime\n",
    "\n",
    "def is_future_date(date_str):\n",
    "    try:\n",
    "        input_date = datetime.strptime(date_str, \"%Y-%m-%d\")\n",
    "        current_date = datetime.now().date()\n",
    "        \n",
    "        if input_date >= current_date:\n",
    "            return True\n",
    "        else:\n",
    "            return False\n",
    "    except ValueError:\n",
    "        return False\n",
    "\n",
    "date_input = input(\"Enter a date in the format YYYY-MM-DD:\")\n",
    "if is_future_date(date_input):\n",
    "    print(\"The date is either today or in the future.\")\n",
    "else:\n",
    "    print(\"The date is in the past.\")\n"
   ]
  },
  {
   "cell_type": "code",
   "execution_count": 42,
   "id": "1ae25819",
   "metadata": {},
   "outputs": [
    {
     "name": "stdout",
     "output_type": "stream",
     "text": [
      "enter your date\n"
     ]
    }
   ],
   "source": []
  },
  {
   "cell_type": "code",
   "execution_count": 47,
   "id": "8811075f",
   "metadata": {},
   "outputs": [
    {
     "name": "stdout",
     "output_type": "stream",
     "text": [
      "30\n",
      "310\n",
      "844\n",
      "Total amount for the order: $None\n"
     ]
    }
   ],
   "source": [
    "def calculate_total(products):\n",
    "    total_amount = 0\n",
    "    for product in products:\n",
    "        price = product[\"price\"]\n",
    "        quantity = product[\"quantity\"]\n",
    "        total_amount += price * quantity\n",
    "        print(total_amount)\n",
    "        \n",
    "        \n",
    "order_products = [\n",
    "         {\"name\":\"T.V\",\"price\":10, \"quantity\":3},\n",
    "         {\"name\":\"Laptop\",\"price\":56,\"quantity\":5 },\n",
    "         {\"name\": \"iphone\",\"price\":89,\"quantity\":6 }\n",
    "] \n",
    "\n",
    "total_amount = calculate_total(order_products)\n",
    "print(f\"Total amount for the order: ${total_amount}\")"
   ]
  },
  {
   "cell_type": "code",
   "execution_count": 51,
   "id": "e63bc128",
   "metadata": {},
   "outputs": [
    {
     "name": "stdout",
     "output_type": "stream",
     "text": [
      "Total amount for the order: $120\n"
     ]
    }
   ],
   "source": [
    "class OrderLine:\n",
    "    def __init__(self, product, price, quantity):\n",
    "        self.product = product\n",
    "        self.price = price\n",
    "        self.quantity = quantity\n",
    "\n",
    "def calculate_total(order_lines):\n",
    "    total_amount = 0\n",
    "    for line in order_lines:\n",
    "        total_amount += line.price * line.quantity\n",
    "    print(total_amount)\n",
    "\n",
    "# Example usage\n",
    "order_lines = [\n",
    "    OrderLine(\"Product A\", 10, 3),\n",
    "    OrderLine(\"Product B\", 20, 2),\n",
    "    OrderLine(\"Product C\", 5, 10)\n",
    "]\n",
    "\n",
    "total_amount = calculate_total(order_lines)\n",
    "print(f\"Total amount for the order: ${total_amount}\")\n"
   ]
  },
  {
   "cell_type": "code",
   "execution_count": 55,
   "id": "8176f6a5",
   "metadata": {},
   "outputs": [
    {
     "name": "stdout",
     "output_type": "stream",
     "text": [
      "khushbu\n",
      "khushbu.khadadhar5@gmail.com\n",
      "8849578746\n",
      "main road\n",
      "Amreli\n",
      "Gujrat\n",
      "india\n",
      "cut\n"
     ]
    }
   ],
   "source": [
    "#ex.E002 \n",
    "class customer:\n",
    "    def __init__(members,name,email,phone,street,city,state,country,type):\n",
    "        members.name = name\n",
    "        members.email = email\n",
    "        members.phone = phone\n",
    "        members.street = street\n",
    "        members.city = city\n",
    "        members.state = state\n",
    "        members.country = country\n",
    "        members.type = type\n",
    "        \n",
    "p1 = customer(\"khushbu\",\"khushbu.khadadhar5@gmail.com\",\"8849578746\",\"main road\",\"Amreli\",\"Gujrat\",\"india\",\"cut\")\n",
    "\n",
    "print(p1.name)\n",
    "print(p1.email)\n",
    "print(p1.phone)\n",
    "print(p1.street)\n",
    "print(p1.city)\n",
    "print(p1.state)\n",
    "print(p1.country)\n",
    "print(p1.type)"
   ]
  },
  {
   "cell_type": "code",
   "execution_count": 60,
   "id": "9fe1b9ed",
   "metadata": {},
   "outputs": [
    {
     "ename": "TypeError",
     "evalue": "'str' object is not callable",
     "output_type": "error",
     "traceback": [
      "\u001b[1;31m---------------------------------------------------------------------------\u001b[0m",
      "\u001b[1;31mTypeError\u001b[0m                                 Traceback (most recent call last)",
      "Input \u001b[1;32mIn [60]\u001b[0m, in \u001b[0;36m<cell line: 6>\u001b[1;34m()\u001b[0m\n\u001b[0;32m      2\u001b[0m     allowed_type \u001b[38;5;241m=\u001b[39m[\u001b[38;5;124m\"\u001b[39m\u001b[38;5;124mcompany\u001b[39m\u001b[38;5;124m\"\u001b[39m,\u001b[38;5;124m\"\u001b[39m\u001b[38;5;124mcontact\u001b[39m\u001b[38;5;124m\"\u001b[39m,\u001b[38;5;124m\"\u001b[39m\u001b[38;5;124mbilling\u001b[39m\u001b[38;5;124m\"\u001b[39m,\u001b[38;5;124m\"\u001b[39m\u001b[38;5;124mshipping\u001b[39m\u001b[38;5;124m\"\u001b[39m]\n\u001b[0;32m      3\u001b[0m     \u001b[38;5;28;01mreturn\u001b[39;00m type_str \u001b[38;5;129;01min\u001b[39;00m allowed_types\n\u001b[1;32m----> 6\u001b[0m input_type \u001b[38;5;241m=\u001b[39m \u001b[38;5;28;43minput\u001b[39;49m\u001b[43m(\u001b[49m\u001b[43m)\u001b[49m\u001b[38;5;241m.\u001b[39mlower()\n\u001b[0;32m      8\u001b[0m \u001b[38;5;28;01mif\u001b[39;00m validate_type(input_type):\n\u001b[0;32m      9\u001b[0m     \u001b[38;5;28mprint\u001b[39m(\u001b[38;5;124m\"\u001b[39m\u001b[38;5;124mtype is valid.\u001b[39m\u001b[38;5;124m\"\u001b[39m)\n",
      "\u001b[1;31mTypeError\u001b[0m: 'str' object is not callable"
     ]
    }
   ],
   "source": [
    "def validate_type(type_str):\n",
    "    allowed_type =[\"company\",\"contact\",\"billing\",\"shipping\"]\n",
    "    return type_str in allowed_types\n",
    "\n",
    "\n",
    "input_type = input(\"enter the type(company,contact,billing,shipping)\").lower()\n",
    "\n",
    "if validate_type(input_type):\n",
    "    print(\"type is valid.\")\n",
    "    \n",
    "    \n",
    "else:\n",
    "    print(\"type is not valid.\")\n",
    "    "
   ]
  },
  {
   "cell_type": "code",
   "execution_count": 61,
   "id": "626cc5c6",
   "metadata": {},
   "outputs": [
    {
     "ename": "TypeError",
     "evalue": "'str' object is not callable",
     "output_type": "error",
     "traceback": [
      "\u001b[1;31m---------------------------------------------------------------------------\u001b[0m",
      "\u001b[1;31mTypeError\u001b[0m                                 Traceback (most recent call last)",
      "Input \u001b[1;32mIn [61]\u001b[0m, in \u001b[0;36m<cell line: 14>\u001b[1;34m()\u001b[0m\n\u001b[0;32m     10\u001b[0m     pattern \u001b[38;5;241m=\u001b[39m \u001b[38;5;124mr\u001b[39m\u001b[38;5;124m'\u001b[39m\u001b[38;5;124m^[a-zA-Z0-9._\u001b[39m\u001b[38;5;124m%\u001b[39m\u001b[38;5;124m+-]+@[a-zA-Z0-9.-]+\u001b[39m\u001b[38;5;124m\\\u001b[39m\u001b[38;5;124m.[a-zA-Z]\u001b[39m\u001b[38;5;124m{\u001b[39m\u001b[38;5;124m2,}$\u001b[39m\u001b[38;5;124m'\u001b[39m\n\u001b[0;32m     11\u001b[0m     \u001b[38;5;28;01mreturn\u001b[39;00m re\u001b[38;5;241m.\u001b[39mmatch(pattern, email) \u001b[38;5;129;01mis\u001b[39;00m \u001b[38;5;129;01mnot\u001b[39;00m \u001b[38;5;28;01mNone\u001b[39;00m\n\u001b[1;32m---> 14\u001b[0m input_phone \u001b[38;5;241m=\u001b[39m \u001b[38;5;28;43minput\u001b[39;49m\u001b[43m(\u001b[49m\u001b[38;5;124;43m\"\u001b[39;49m\u001b[38;5;124;43mEnter a phone number: \u001b[39;49m\u001b[38;5;124;43m\"\u001b[39;49m\u001b[43m)\u001b[49m\n\u001b[0;32m     15\u001b[0m input_email \u001b[38;5;241m=\u001b[39m \u001b[38;5;28minput\u001b[39m(\u001b[38;5;124m\"\u001b[39m\u001b[38;5;124mEnter an email address: \u001b[39m\u001b[38;5;124m\"\u001b[39m)\n\u001b[0;32m     17\u001b[0m \u001b[38;5;28;01mif\u001b[39;00m validate_phone_number(input_phone):\n",
      "\u001b[1;31mTypeError\u001b[0m: 'str' object is not callable"
     ]
    }
   ],
   "source": [
    "import re\n",
    "\n",
    "def validate_phone_number(phone_number):\n",
    "    \n",
    "    pattern = r'^(\\+\\d{1,2}-?)?\\d{3}-?\\d{3}-?\\d{4}$'\n",
    "    return re.match(pattern, phone_number) is not None\n",
    "\n",
    "def validate_email(email):\n",
    "    \n",
    "    pattern = r'^[a-zA-Z0-9._%+-]+@[a-zA-Z0-9.-]+\\.[a-zA-Z]{2,}$'\n",
    "    return re.match(pattern, email) is not None\n",
    "\n",
    "\n",
    "input_phone = input(\"Enter a phone number: \")\n",
    "input_email = input(\"Enter an email address: \")\n",
    "\n",
    "if validate_phone_number(input_phone):\n",
    "    print(\"Phone number is valid.\")\n",
    "else:\n",
    "    print(\"Phone number is not valid.\")\n",
    "\n",
    "if validate_email(input_email):\n",
    "    print(\"Email address is valid.\")\n",
    "else:\n",
    "    print(\"Email address is not valid.\")\n"
   ]
  },
  {
   "cell_type": "code",
   "execution_count": 63,
   "id": "9b11caa1",
   "metadata": {},
   "outputs": [
    {
     "ename": "TypeError",
     "evalue": "'str' object is not callable",
     "output_type": "error",
     "traceback": [
      "\u001b[1;31m---------------------------------------------------------------------------\u001b[0m",
      "\u001b[1;31mTypeError\u001b[0m                                 Traceback (most recent call last)",
      "Input \u001b[1;32mIn [63]\u001b[0m, in \u001b[0;36m<cell line: 8>\u001b[1;34m()\u001b[0m\n\u001b[0;32m      5\u001b[0m     pattern \u001b[38;5;241m=\u001b[39m \u001b[38;5;124mr\u001b[39m\u001b[38;5;124m'\u001b[39m\u001b[38;5;124m^[a-zA-z\u001b[39m\u001b[38;5;124m\\\u001b[39m\u001b[38;5;124ms]+$\u001b[39m\u001b[38;5;124m'\u001b[39m\n\u001b[0;32m      6\u001b[0m     \u001b[38;5;28;01mreturn\u001b[39;00m re\u001b[38;5;241m.\u001b[39mmatch(pattern, input_str)\u001b[38;5;129;01mis\u001b[39;00m \u001b[38;5;129;01mnot\u001b[39;00m \u001b[38;5;28;01mNone\u001b[39;00m\n\u001b[1;32m----> 8\u001b[0m name \u001b[38;5;241m=\u001b[39m \u001b[38;5;28;43minput\u001b[39;49m\u001b[43m(\u001b[49m\u001b[38;5;124;43m\"\u001b[39;49m\u001b[38;5;124;43menter a name:\u001b[39;49m\u001b[38;5;124;43m\"\u001b[39;49m\u001b[43m)\u001b[49m\n\u001b[0;32m      9\u001b[0m city \u001b[38;5;241m=\u001b[39m \u001b[38;5;28minput\u001b[39m (\u001b[38;5;124m\"\u001b[39m\u001b[38;5;124menter a city:\u001b[39m\u001b[38;5;124m\"\u001b[39m)\n\u001b[0;32m     10\u001b[0m state \u001b[38;5;241m=\u001b[39m \u001b[38;5;28minput\u001b[39m (\u001b[38;5;124m\"\u001b[39m\u001b[38;5;124menter a state:\u001b[39m\u001b[38;5;124m\"\u001b[39m)\n",
      "\u001b[1;31mTypeError\u001b[0m: 'str' object is not callable"
     ]
    }
   ],
   "source": [
    "import re\n",
    "\n",
    "def validate_input(input_str):\n",
    "\n",
    "    pattern = r'^[a-zA-z\\s]+$'\n",
    "    return re.match(pattern, input_str)is not None\n",
    "\n",
    "name = input(\"enter a name:\")\n",
    "city = input (\"enter a city:\")\n",
    "state = input (\"enter a state:\")\n",
    "country= input (\"enter a country:\")\n",
    "\n",
    "if all(validate_input(value) for value in [name,city,state,country]):\n",
    "     print(\"All input are valid.\")\n",
    "        \n",
    "else:\n",
    "    print(\"At least one input is not valid\")\n",
    "    \n",
    "    \n",
    "    \n",
    "import re\n",
    "\n",
    "def validate_input(input_str):\n",
    "    \n",
    "    pattern = r'^[a-zA-z\\s]+$\n",
    "    return re.match(pattern, input_str)is not none\n",
    "        \n",
    "        \n",
    "    "
   ]
  },
  {
   "cell_type": "code",
   "execution_count": 64,
   "id": "8194ed89",
   "metadata": {},
   "outputs": [
    {
     "name": "stdout",
     "output_type": "stream",
     "text": [
      "2\n",
      "SmartWatch\n",
      "2\n",
      "15000\n",
      "17000\n"
     ]
    }
   ],
   "source": [
    "class OrderLine:\n",
    "    def __init__(self,order,product,quantity,price,subtotal):\n",
    "        self.order = order\n",
    "        self.product = product \n",
    "        self.quantity = quantity\n",
    "        self.price  = price\n",
    "        self.subtotal = subtotal\n",
    "        \n",
    "        \n",
    "p1 = OrderLine(2,\"SmartWatch\",2,15000,17000)    \n",
    "\n",
    "\n",
    "print(p1.order)\n",
    "print(p1.product)\n",
    "print(p1.quantity)\n",
    "print(p1.price)\n",
    "print(p1.subtotal)"
   ]
  },
  {
   "cell_type": "code",
   "execution_count": 7,
   "id": "efdc49c3",
   "metadata": {},
   "outputs": [
    {
     "name": "stdout",
     "output_type": "stream",
     "text": [
      "500\n"
     ]
    }
   ],
   "source": [
    "quantity = 5\n",
    "price = 100\n",
    "\n",
    "cal=(quantity * price)\n",
    "print(cal)"
   ]
  },
  {
   "cell_type": "code",
   "execution_count": 9,
   "id": "06975f02",
   "metadata": {},
   "outputs": [
    {
     "name": "stdout",
     "output_type": "stream",
     "text": [
      "Ramnikbhai\n",
      "Ahemdabad\n",
      "8849578746\n",
      "#111\n",
      "T.V\n",
      "2\n"
     ]
    }
   ],
   "source": [
    "class cust:\n",
    "    def __init__(self,name,city,phoneno,adharcardno,productname,orderquantity):\n",
    "        self.name = name\n",
    "        self.city = city\n",
    "        self.phoneno = phoneno\n",
    "        self.adharcardno = adharcardno\n",
    "        self.productname = productname\n",
    "        self.orderquantity = orderquantity\n",
    "        \n",
    "        \n",
    "        \n",
    "k1 = cust(\"Ramnikbhai\",\"Ahemdabad\",\"8849578746\",\"#111\",\"T.V\",\"2\"\n",
    "          )   \n",
    "\n",
    "\n",
    "print(k1.name)\n",
    "print(k1.city)\n",
    "print(k1.phoneno)\n",
    "print(k1.adharcardno)\n",
    "print(k1.productname)\n",
    "print(k1.orderquantity)\n",
    "        \n",
    "        \n",
    "        \n",
    "        \n",
    "        \n",
    "        "
   ]
  },
  {
   "cell_type": "code",
   "execution_count": 12,
   "id": "1338a817",
   "metadata": {},
   "outputs": [
    {
     "name": "stdout",
     "output_type": "stream",
     "text": [
      "         date       odrder     name\n",
      "0  2021-01-25          t.v  khushbu\n",
      "1  2021-01-22       laptop  Akansha\n",
      "2  2021-01-20    headphone   Preeti\n",
      "3  2021-01-18  mobilephone   Prachi\n",
      "4  2021-01-17   smartphone    vijay\n",
      "5  2021-01-16    bluetooth     savi\n"
     ]
    }
   ],
   "source": [
    "import pandas as pd\n",
    "\n",
    "data = pd.DataFrame({'date':['2021-01-25','2021-01-22','2021-01-20','2021-01-18','2021-01-17','2021-01-16'],\n",
    "                     'odrder':[\"t.v\",\"laptop\",\"headphone\",\"mobilephone\",\"smartphone\",\"bluetooth\"],\n",
    "                      'name': [\"khushbu\",\"Akansha\",\"Preeti\",\"Prachi\",\"vijay\",\"savi\",]\n",
    "                    })\n",
    "\n",
    "data.sort_values(by='date')\n",
    "print(data)"
   ]
  },
  {
   "cell_type": "code",
   "execution_count": 15,
   "id": "32fa2b33",
   "metadata": {},
   "outputs": [
    {
     "name": "stdout",
     "output_type": "stream",
     "text": [
      "         date       odrder     name\n",
      "0  2021-01-25          t.v  khushbu\n",
      "1  2021-01-22       laptop  Akansha\n",
      "2  2021-01-20    headphone   Preeti\n",
      "3  2021-01-18  mobilephone   Prachi\n",
      "4  2021-01-17   smartphone    vijay\n",
      "5  2021-01-16    bluetooth     savi\n"
     ]
    }
   ],
   "source": [
    "import pandas as pd\n",
    "\n",
    "data = pd.DataFrame({'date':['2021-01-25','2021-01-22','2021-01-20','2021-01-18','2021-01-17','2021-01-16'],\n",
    "                     'odrder':[\"t.v\",\"laptop\",\"headphone\",\"mobilephone\",\"smartphone\",\"bluetooth\"],\n",
    "                      'name': [\"khushbu\",\"Akansha\",\"Preeti\",\"Prachi\",\"vijay\",\"savi\",]\n",
    "                    })\n",
    "\n",
    "data.sort_values(by = \"date\")\n",
    "print(data)"
   ]
  },
  {
   "cell_type": "code",
   "execution_count": 16,
   "id": "459afc93",
   "metadata": {},
   "outputs": [
    {
     "name": "stdout",
     "output_type": "stream",
     "text": [
      "Order ID: 1, Date: 2023-08-15\n",
      "Order ID: 3, Date: 2023-08-02\n"
     ]
    }
   ],
   "source": [
    "from datetime import datetime\n",
    "\n",
    "# List of orders with date information\n",
    "orders = [\n",
    "    {\"order_id\": 1, \"date\": \"2023-08-15\"},\n",
    "    {\"order_id\": 2, \"date\": \"2023-07-25\"},\n",
    "    {\"order_id\": 3, \"date\": \"2023-08-02\"},\n",
    "    # ... more orders ...\n",
    "]\n",
    "\n",
    "# Function to convert date string to datetime object\n",
    "def convert_date(date_str):\n",
    "    return datetime.strptime(date_str, \"%Y-%m-%d\")\n",
    "\n",
    "# Filter orders for the current month\n",
    "current_month = datetime.now().month\n",
    "filtered_orders = [order for order in orders if convert_date(order[\"date\"]).month == current_month]\n",
    "\n",
    "# Printing the filtered orders\n",
    "for order in filtered_orders:\n",
    "    print(f\"Order ID: {order['order_id']}, Date: {order['date']}\")\n"
   ]
  },
  {
   "cell_type": "code",
   "execution_count": 17,
   "id": "4117ece9",
   "metadata": {},
   "outputs": [
    {
     "name": "stdout",
     "output_type": "stream",
     "text": [
      "Order ID: 1, Date: 2023-08-15\n",
      "Order ID: 3, Date: 2023-08-02\n"
     ]
    }
   ],
   "source": [
    "from datetime import datetime\n",
    "\n",
    "# List of orders with date information\n",
    "orders = [\n",
    "    {\"order_id\": 1, \"date\": \"2023-08-15\"},\n",
    "    {\"order_id\": 2, \"date\": \"2023-07-25\"},\n",
    "    {\"order_id\": 3, \"date\": \"2023-08-02\"},\n",
    "    # ... more orders ...\n",
    "]\n",
    "\n",
    "# Function to convert date string to datetime object\n",
    "def convert_date(date_str):\n",
    "    return datetime.strptime(date_str, \"%Y-%m-%d\")\n",
    "\n",
    "# Filter orders for the current month\n",
    "current_month = datetime.now().month\n",
    "filtered_orders = [order for order in orders if convert_date(order[\"date\"]).month == current_month]\n",
    "\n",
    "# Printing the filtered orders\n",
    "for order in filtered_orders:\n",
    "    print(f\"Order ID: {order['order_id']}, Date: {order['date']}\")\n"
   ]
  },
  {
   "cell_type": "code",
   "execution_count": 18,
   "id": "06dbd5dc",
   "metadata": {},
   "outputs": [
    {
     "name": "stdout",
     "output_type": "stream",
     "text": [
      "  productname orderquantity\n",
      "0         T.V             2\n",
      "1      Laptop             1\n",
      "2   Headphone             5\n",
      "3   Bluetooth             4\n",
      "4     Speeker             7\n",
      "5     charger             4\n"
     ]
    }
   ],
   "source": [
    "import pandas as pd \n",
    "\n",
    "data = pd.DataFrame({'productname':[\"T.V\",\"Laptop\",\"Headphone\",\"Bluetooth\",\"Speeker\",\"charger\"],\n",
    "                     'orderquantity':[\"2\",\"1\",\"5\",\"4\",\"7\",\"4\"]})\n",
    "\n",
    "print(data)"
   ]
  },
  {
   "cell_type": "code",
   "execution_count": null,
   "id": "9f25b382",
   "metadata": {},
   "outputs": [],
   "source": []
  }
 ],
 "metadata": {
  "kernelspec": {
   "display_name": "Python 3 (ipykernel)",
   "language": "python",
   "name": "python3"
  },
  "language_info": {
   "codemirror_mode": {
    "name": "ipython",
    "version": 3
   },
   "file_extension": ".py",
   "mimetype": "text/x-python",
   "name": "python",
   "nbconvert_exporter": "python",
   "pygments_lexer": "ipython3",
   "version": "3.9.12"
  }
 },
 "nbformat": 4,
 "nbformat_minor": 5
}
