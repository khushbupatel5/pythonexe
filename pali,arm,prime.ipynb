{
 "cells": [
  {
   "cell_type": "code",
   "execution_count": null,
   "id": "c57b6fcb",
   "metadata": {},
   "outputs": [],
   "source": [
    "n=int(input(\"enter your iteration number\"))\n",
    "x=0\n",
    "y=1\n",
    "z=0\n",
    "while z<=n:\n",
    "      print(z)\n",
    "      x=y\n",
    "      y=z\n",
    "      z=x+y  "
   ]
  },
  {
   "cell_type": "code",
   "execution_count": null,
   "id": "0e47b347",
   "metadata": {},
   "outputs": [],
   "source": [
    "#palidrom\n",
    "i=int(input(\"enter your number\"))\n",
    "rev=0\n",
    "j=i\n",
    "while i>0:\n",
    "    rev=(rev*10)+(i%10)\n",
    "    i=i//10\n",
    "if j==rev:\n",
    "    print(\"number is palidrom\")\n",
    "else:\n",
    "    print(\"number is not palidrom\")\n",
    "    "
   ]
  },
  {
   "cell_type": "code",
   "execution_count": null,
   "id": "1e614f9e",
   "metadata": {},
   "outputs": [],
   "source": [
    "#armstrong\n",
    "i=int(input(\"enter your number\"))\n",
    "origin=i\n",
    "sum=0\n",
    "while i>0:\n",
    "    sum=sum+(i%10)*(i%10)*(i%10)\n",
    "    i=i//10\n",
    "if origin==sum:\n",
    "    print(\"number is armstrong\")\n",
    "else:\n",
    "    print(\"number is not armstrong\")\n",
    "    \n",
    "    \n",
    "    "
   ]
  },
  {
   "cell_type": "code",
   "execution_count": null,
   "id": "0f3637eb",
   "metadata": {},
   "outputs": [],
   "source": [
    "#prime number\n",
    "i=int(input(\"enter your number\"))\n",
    "count=0\n",
    "j=1\n",
    "while(i<n):\n",
    "    if(i%j==0):\n",
    "        count=count+1\n",
    "i=i+1\n",
    "if(count==2):\n",
    "  print(\"number is prime\")\n",
    "else:\n",
    "  print(\"number is not prime\")"
   ]
  },
  {
   "cell_type": "code",
   "execution_count": null,
   "id": "4a513559",
   "metadata": {},
   "outputs": [],
   "source": []
  },
  {
   "cell_type": "code",
   "execution_count": null,
   "id": "1d7049f3",
   "metadata": {},
   "outputs": [],
   "source": []
  },
  {
   "cell_type": "code",
   "execution_count": null,
   "id": "30a21fed",
   "metadata": {},
   "outputs": [],
   "source": []
  },
  {
   "cell_type": "code",
   "execution_count": null,
   "id": "d82618ff",
   "metadata": {},
   "outputs": [],
   "source": []
  }
 ],
 "metadata": {
  "kernelspec": {
   "display_name": "Python 3 (ipykernel)",
   "language": "python",
   "name": "python3"
  },
  "language_info": {
   "codemirror_mode": {
    "name": "ipython",
    "version": 3
   },
   "file_extension": ".py",
   "mimetype": "text/x-python",
   "name": "python",
   "nbconvert_exporter": "python",
   "pygments_lexer": "ipython3",
   "version": "3.9.12"
  }
 },
 "nbformat": 4,
 "nbformat_minor": 5
}
